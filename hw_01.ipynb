{
 "cells": [
  {
   "cell_type": "markdown",
   "metadata": {},
   "source": [
    "## Урок 1. Случайные события. Условная вероятность. Формула Байеса. Независимые испытания"
   ]
  },
  {
   "cell_type": "markdown",
   "metadata": {},
   "source": [
    "#### 1. Из колоды в 52 карты извлекаются случайным образом 4 карты. a) Найти вероятность того, что все карты – крести. б) Найти вероятность, что среди 4-х карт окажется ХОТЯ БЫ один туз."
   ]
  },
  {
   "cell_type": "markdown",
   "metadata": {},
   "source": [
    "* а) число исходов благоприятствующих нашему событию – это количество сочетаний 4 карт из 36 с 4 крести."
   ]
  },
  {
   "cell_type": "code",
   "execution_count": 1,
   "metadata": {},
   "outputs": [
    {
     "data": {
      "text/plain": [
       "715"
      ]
     },
     "execution_count": 1,
     "metadata": {},
     "output_type": "execute_result"
    }
   ],
   "source": [
    "# число сочетаний для получения 4 карт крести из 13\n",
    "from math import factorial\n",
    "def combinations(n, k):\n",
    "    return int(factorial(n) / (factorial(k) * factorial(n - k)))\n",
    "\n",
    "C01 = combinations(13, 4)\n",
    "C01"
   ]
  },
  {
   "cell_type": "code",
   "execution_count": 2,
   "metadata": {},
   "outputs": [
    {
     "data": {
      "text/plain": [
       "270725"
      ]
     },
     "execution_count": 2,
     "metadata": {},
     "output_type": "execute_result"
    }
   ],
   "source": [
    "# число сочетаний любых 4 карт из всей колоды\n",
    "C02 = combinations(52, 4)\n",
    "C02"
   ]
  },
  {
   "cell_type": "code",
   "execution_count": 3,
   "metadata": {},
   "outputs": [
    {
     "name": "stdout",
     "output_type": "stream",
     "text": [
      "0.26 %\n"
     ]
    }
   ],
   "source": [
    "# вероятность извлечения 4 карт крести из колоды в 52 карты\n",
    "P = C01 / C02 * 100\n",
    "print(f'{P:.2f} %')"
   ]
  },
  {
   "cell_type": "markdown",
   "metadata": {},
   "source": [
    "* б) по условию необходимо найти вероятность, что среди 4-х карт окажется ХОТЯ БЫ один туз, т.е. как минимум один туз, или 2, или 3, или все 4. Найдем вероятность взять 4 карты с 1-м, 2-мя, 3-мя, 4-мя тузами из всей колоды в 52 карты, а затем просуммируем их."
   ]
  },
  {
   "cell_type": "code",
   "execution_count": 4,
   "metadata": {},
   "outputs": [
    {
     "data": {
      "text/plain": [
       "4"
      ]
     },
     "execution_count": 4,
     "metadata": {},
     "output_type": "execute_result"
    }
   ],
   "source": [
    "# число сочетаний для получения 1 туза среди 4 карт\n",
    "C11 = combinations(4, 1)\n",
    "C11"
   ]
  },
  {
   "cell_type": "code",
   "execution_count": 5,
   "metadata": {},
   "outputs": [
    {
     "data": {
      "text/plain": [
       "17296"
      ]
     },
     "execution_count": 5,
     "metadata": {},
     "output_type": "execute_result"
    }
   ],
   "source": [
    "# число сочетаний для получения 3 любых карт среди колоды без тузов\n",
    "C12 = combinations(48, 3)\n",
    "C12"
   ]
  },
  {
   "cell_type": "code",
   "execution_count": 6,
   "metadata": {},
   "outputs": [
    {
     "data": {
      "text/plain": [
       "69184"
      ]
     },
     "execution_count": 6,
     "metadata": {},
     "output_type": "execute_result"
    }
   ],
   "source": [
    "# число сочетаний для получения 1 туза среди 4 карт из всей колоды в 52 карты\n",
    "C1 = C11 * C12\n",
    "C1"
   ]
  },
  {
   "cell_type": "code",
   "execution_count": 7,
   "metadata": {},
   "outputs": [
    {
     "data": {
      "text/plain": [
       "270725"
      ]
     },
     "execution_count": 7,
     "metadata": {},
     "output_type": "execute_result"
    }
   ],
   "source": [
    "# все возможные сочетания 4 карт из 52\n",
    "C0 = combinations(52, 4)\n",
    "C0"
   ]
  },
  {
   "cell_type": "code",
   "execution_count": 8,
   "metadata": {},
   "outputs": [
    {
     "name": "stdout",
     "output_type": "stream",
     "text": [
      "25.56 %\n"
     ]
    }
   ],
   "source": [
    "# вероятность взять 4 карты с 1 тузом из всей колоды в 52 карты\n",
    "P1 = C1 / C0\n",
    "print(f'{P1 * 100:.2f} %')"
   ]
  },
  {
   "cell_type": "markdown",
   "metadata": {},
   "source": [
    "Аналогично для 2 тузов среди 4 карт"
   ]
  },
  {
   "cell_type": "code",
   "execution_count": 9,
   "metadata": {},
   "outputs": [
    {
     "name": "stdout",
     "output_type": "stream",
     "text": [
      "2.50 %\n"
     ]
    }
   ],
   "source": [
    "# число сочетаний для получения 2 тузов среди 4 карт\n",
    "C21 = combinations(4, 2)\n",
    "\n",
    "# число сочетаний для получения 2 любых карт среди колоды без тузов\n",
    "C22 = combinations(48, 2)\n",
    "\n",
    "# число сочетаний для получения 2 тузов среди 4 карт из всей колоды в 52 карты\n",
    "C2 = C21 * C22\n",
    "\n",
    "# все возможные сочетания 4 карт из 52\n",
    "C0 = combinations(52, 4)\n",
    "\n",
    "# вероятность взять 4 карты с 2 тузами из всей колоды в 52 карты\n",
    "P2 = C2 / C0\n",
    "print(f'{P2 * 100:.2f} %')"
   ]
  },
  {
   "cell_type": "markdown",
   "metadata": {},
   "source": [
    "Аналогично для 3 тузов среди 4 карт"
   ]
  },
  {
   "cell_type": "code",
   "execution_count": 10,
   "metadata": {},
   "outputs": [
    {
     "name": "stdout",
     "output_type": "stream",
     "text": [
      "0.07 %\n"
     ]
    }
   ],
   "source": [
    "# число сочетаний для получения 3 тузов среди 4 карт\n",
    "C31 = combinations(4, 3)\n",
    "\n",
    "# число сочетаний для получения 1 любой карты среди колоды без тузов\n",
    "C32 = combinations(48, 1)\n",
    "\n",
    "# число сочетаний для получения 3 тузов среди 4 карт из всей колоды в 52 карты\n",
    "C3 = C31 * C32\n",
    "\n",
    "# все возможные сочетания 4 карт из 52\n",
    "C0 = combinations(52, 4)\n",
    "\n",
    "# вероятность взять 4 карты с 3 тузами из всей колоды в 52 карты\n",
    "P3 = C3 / C0\n",
    "print(f'{P3 * 100:.2f} %')"
   ]
  },
  {
   "cell_type": "markdown",
   "metadata": {},
   "source": [
    "Аналогично для 4 тузов среди 4 карт"
   ]
  },
  {
   "cell_type": "code",
   "execution_count": 11,
   "metadata": {},
   "outputs": [
    {
     "name": "stdout",
     "output_type": "stream",
     "text": [
      "0.00037 %\n"
     ]
    }
   ],
   "source": [
    "# число сочетаний для получения 4 тузов среди 4 карт\n",
    "C41 = combinations(4, 4)\n",
    "\n",
    "# число сочетаний для получения 0 любых карт среди колоды без тузов\n",
    "C42 = combinations(48, 0)\n",
    "\n",
    "# число сочетаний для получения 4 тузов среди 4 карт из всей колоды в 52 карты\n",
    "C4 = C41 * C42\n",
    "\n",
    "# все возможные сочетания 4 карт из 52\n",
    "C0 = combinations(52, 4)\n",
    "\n",
    "# вероятность взять 4 карты с 4 тузами из всей колоды в 52 карты\n",
    "P4 = C4 / C0\n",
    "print(f'{P4 * 100:.5f} %')"
   ]
  },
  {
   "cell_type": "code",
   "execution_count": 12,
   "metadata": {},
   "outputs": [
    {
     "name": "stdout",
     "output_type": "stream",
     "text": [
      "28.13 %\n"
     ]
    }
   ],
   "source": [
    "# вероятность, что среди 4-х карт окажется ХОТЯ БЫ один туз\n",
    "P = P1 + P2 + P3 + P4\n",
    "print(f'{P * 100:.2f} %')"
   ]
  },
  {
   "cell_type": "markdown",
   "metadata": {},
   "source": [
    "#### 2. На входной двери подъезда установлен кодовый замок, содержащий десять кнопок с цифрами от 0 до 9. Код содержит три цифры, которые нужно нажать одновременно. Какова вероятность того, что человек, не знающий код, откроет дверь с первой попытки?"
   ]
  },
  {
   "cell_type": "code",
   "execution_count": 13,
   "metadata": {},
   "outputs": [
    {
     "data": {
      "text/plain": [
       "120"
      ]
     },
     "execution_count": 13,
     "metadata": {},
     "output_type": "execute_result"
    }
   ],
   "source": [
    "# число сочетаний 3 из 10\n",
    "C = combinations(10, 3)\n",
    "C"
   ]
  },
  {
   "cell_type": "code",
   "execution_count": 14,
   "metadata": {},
   "outputs": [
    {
     "name": "stdout",
     "output_type": "stream",
     "text": [
      "0.83 %\n"
     ]
    }
   ],
   "source": [
    "# вероятность того, что человек, не знающий код, откроет дверь с первой попытки\n",
    "P = 1 / C\n",
    "print(f'{P * 100:.2f} %')"
   ]
  },
  {
   "cell_type": "markdown",
   "metadata": {},
   "source": [
    "#### 3. В ящике имеется 15 деталей, из которых 9 окрашены. Рабочий случайным образом извлекает 3 детали. Какова вероятность того, что все извлеченные детали окрашены?"
   ]
  },
  {
   "cell_type": "code",
   "execution_count": 15,
   "metadata": {},
   "outputs": [
    {
     "name": "stdout",
     "output_type": "stream",
     "text": [
      "18.46 %\n"
     ]
    }
   ],
   "source": [
    "# число сочетаний для извлечения 3 деталей из 9 окрашенных\n",
    "C31 = combinations(9, 3)\n",
    "\n",
    "# число сочетаний для извлечения 0 деталей из 12 оставшихся\n",
    "C32 = combinations(12, 0)\n",
    "\n",
    "# число сочетаний для извлечения 3 окрашенных деталей из ящика\n",
    "C3 = C31 * C32\n",
    "\n",
    "# все возможные сочетания 3 деталей из ящика\n",
    "C0 = combinations(15, 3)\n",
    "\n",
    "# вероятность извлечения 3 окрашенных детали из ящика\n",
    "P3 = C3 / C0\n",
    "print(f'{P3 * 100:.2f} %')"
   ]
  },
  {
   "cell_type": "markdown",
   "metadata": {},
   "source": [
    "#### 4. В лотерее 100 билетов. Из них 2 выигрышных. Какова вероятность того, что 2 приобретенных билета окажутся выигрышными?"
   ]
  },
  {
   "cell_type": "code",
   "execution_count": 16,
   "metadata": {},
   "outputs": [
    {
     "name": "stdout",
     "output_type": "stream",
     "text": [
      "0.0202 %\n"
     ]
    }
   ],
   "source": [
    "# число сочетаний для получения 2 выигрышных билетов из 2 возможных\n",
    "C1 = combinations(2, 2)\n",
    "\n",
    "# число сочетаний для извлечения 0 выигрышных билетов из 98 оставшихся\n",
    "C2 = combinations(12, 0)\n",
    "\n",
    "# число сочетаний для извлечения 2 выигрышных билетов из 100\n",
    "C3 = C1 * C2\n",
    "\n",
    "# все возможные сочетания 2 билетов из 100\n",
    "C0 = combinations(100, 2)\n",
    "\n",
    "# вероятность извлечения 2 выигрышных билетов из 100\n",
    "P = C3 / C0\n",
    "print(f'{P * 100:.4f} %')"
   ]
  }
 ],
 "metadata": {
  "kernelspec": {
   "display_name": "Python 3",
   "language": "python",
   "name": "python3"
  },
  "language_info": {
   "codemirror_mode": {
    "name": "ipython",
    "version": 3
   },
   "file_extension": ".py",
   "mimetype": "text/x-python",
   "name": "python",
   "nbconvert_exporter": "python",
   "pygments_lexer": "ipython3",
   "version": "3.8.3"
  }
 },
 "nbformat": 4,
 "nbformat_minor": 4
}
