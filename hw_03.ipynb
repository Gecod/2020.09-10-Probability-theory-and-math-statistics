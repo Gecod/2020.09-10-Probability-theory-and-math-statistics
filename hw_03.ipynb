{
 "cells": [
  {
   "cell_type": "markdown",
   "metadata": {},
   "source": [
    "## Урок 3. Описательная статистика. Качественные и количественные характеристики популяции. Графическое представление данных"
   ]
  },
  {
   "cell_type": "markdown",
   "metadata": {},
   "source": [
    "#### 1. Даны значения зарплат из выборки выпускников: 100, 80, 75, 77, 89, 33, 45, 25, 65, 17, 30, 24, 57, 55, 70, 75, 65, 84, 90, 150. Посчитать (желательно без использования статистических методов наподобие std, var, mean) среднее арифметическое, среднее квадратичное отклонение, смещенную и несмещенную оценки дисперсий для данной выборки."
   ]
  },
  {
   "cell_type": "code",
   "execution_count": 1,
   "metadata": {},
   "outputs": [],
   "source": [
    "import numpy as np"
   ]
  },
  {
   "cell_type": "code",
   "execution_count": 2,
   "metadata": {},
   "outputs": [],
   "source": [
    "z = np.array([100, 80, 75, 77, 89, 33, 45, 25, 65, 17, 30, 24, 57, 55, 70, 75, 65, 84, 90, 150])"
   ]
  },
  {
   "cell_type": "code",
   "execution_count": 3,
   "metadata": {},
   "outputs": [
    {
     "data": {
      "text/plain": [
       "array([ 17,  24,  25,  30,  33,  45,  55,  57,  65,  65,  70,  75,  75,\n",
       "        77,  80,  84,  89,  90, 100, 150])"
      ]
     },
     "execution_count": 3,
     "metadata": {},
     "output_type": "execute_result"
    }
   ],
   "source": [
    "z.sort()\n",
    "z"
   ]
  },
  {
   "cell_type": "code",
   "execution_count": 4,
   "metadata": {},
   "outputs": [
    {
     "data": {
      "text/plain": [
       "(65.3, 65.3)"
      ]
     },
     "execution_count": 4,
     "metadata": {},
     "output_type": "execute_result"
    }
   ],
   "source": [
    "# среднее арифметическое\n",
    "z_mean = sum(z)/len(z)\n",
    "z_mean, z.mean()"
   ]
  },
  {
   "cell_type": "code",
   "execution_count": 5,
   "metadata": {},
   "outputs": [
    {
     "data": {
      "text/plain": [
       "(31.624607341019814, 31.62460734101981)"
      ]
     },
     "execution_count": 5,
     "metadata": {},
     "output_type": "execute_result"
    }
   ],
   "source": [
    "# среднее квадратичное отклонение (несмещенное, т.к. выборка, а не ГС)\n",
    "np.sqrt(sum((z - z_mean) ** 2) / (len(z) - 1)), z.std(ddof=1)"
   ]
  },
  {
   "cell_type": "code",
   "execution_count": 6,
   "metadata": {},
   "outputs": [
    {
     "data": {
      "text/plain": [
       "(950.11, 950.1099999999998)"
      ]
     },
     "execution_count": 6,
     "metadata": {},
     "output_type": "execute_result"
    }
   ],
   "source": [
    "# смещенная оценки дисперсии\n",
    "sum((z - z_mean) ** 2) / len(z), np.std(z) ** 2"
   ]
  },
  {
   "cell_type": "code",
   "execution_count": 7,
   "metadata": {},
   "outputs": [
    {
     "data": {
      "text/plain": [
       "(1000.1157894736842, 1000.1157894736841)"
      ]
     },
     "execution_count": 7,
     "metadata": {},
     "output_type": "execute_result"
    }
   ],
   "source": [
    "# несмещенная оценки дисперсии\n",
    "sum((z - z_mean) ** 2) / (len(z) - 1), np.std(z, ddof=1) ** 2"
   ]
  },
  {
   "cell_type": "markdown",
   "metadata": {},
   "source": [
    "#### 2. В первом ящике находится 8 мячей, из которых 5 - белые. Во втором ящике - 12 мячей, из которых 5 белых. Из первого ящика вытаскивают случайным образом два мяча, из второго - 4. Какова вероятность того, что 3 мяча белые?"
   ]
  },
  {
   "cell_type": "code",
   "execution_count": 8,
   "metadata": {},
   "outputs": [],
   "source": [
    "from math import factorial\n",
    "def combinations(n, k):\n",
    "    return int(factorial(n) / (factorial(k) * factorial(n - k)))"
   ]
  },
  {
   "cell_type": "code",
   "execution_count": 9,
   "metadata": {},
   "outputs": [
    {
     "data": {
      "text/plain": [
       "0.12626262626262627"
      ]
     },
     "execution_count": 9,
     "metadata": {},
     "output_type": "execute_result"
    }
   ],
   "source": [
    "# 2 белых из 1го + 1 белый из второго\n",
    "# число сочетаний для получения 2х белых мячей из 1го ящика\n",
    "C11 = combinations(5, 2)\n",
    "# число сочетаний для получения 2х любых мячей из 1го ящика\n",
    "C01 = combinations(8, 2)\n",
    "\n",
    "# число сочетаний для получения 1го белого мяча и 3х не белых из 2го ящика\n",
    "C12 = combinations(5, 1) * combinations(7, 3)\n",
    "# число сочетаний для получения 4х любых мячей из 2го ящика\n",
    "C02 = combinations(12, 4)\n",
    "\n",
    "CI = C11/C01 * C12/C02\n",
    "CI"
   ]
  },
  {
   "cell_type": "code",
   "execution_count": 10,
   "metadata": {},
   "outputs": [
    {
     "data": {
      "text/plain": [
       "0.1262626262626263"
      ]
     },
     "execution_count": 10,
     "metadata": {},
     "output_type": "execute_result"
    }
   ],
   "source": [
    "5/8*4/7*(5/12*7/11*6/10*5/9 + 7/12*5/11*6/10*5/9 + 7/12*6/11*5/10*5/9 + 7/12*6/11*5/10*5/9)"
   ]
  },
  {
   "cell_type": "code",
   "execution_count": 11,
   "metadata": {},
   "outputs": [
    {
     "data": {
      "text/plain": [
       "0.22727272727272727"
      ]
     },
     "execution_count": 11,
     "metadata": {},
     "output_type": "execute_result"
    }
   ],
   "source": [
    "# 1 белый из 1го + 2 белых из второго\n",
    "# число сочетаний для получения 1го белого и 1го не белого мяча из 1го ящика\n",
    "C21 = combinations(5, 1) * combinations(3, 1)\n",
    "# число сочетаний для получения 2х любых мячей из 1го ящика\n",
    "C01 = combinations(8, 2)\n",
    "\n",
    "# число сочетаний для получения 2х белых мячей и 2х не белых из 2го ящика\n",
    "C22 = combinations(5, 2) * combinations(7, 2)\n",
    "# число сочетаний для получения 4х любых мячей из 2го ящика\n",
    "C02 = combinations(12, 4)\n",
    "\n",
    "CII = C21/C01 * C22/C02\n",
    "CII"
   ]
  },
  {
   "cell_type": "code",
   "execution_count": 12,
   "metadata": {},
   "outputs": [
    {
     "data": {
      "text/plain": [
       "0.2272727272727273"
      ]
     },
     "execution_count": 12,
     "metadata": {},
     "output_type": "execute_result"
    }
   ],
   "source": [
    "(5/8*3/7 + 3/8*5/7)*(5/12*4/11*7/10*6/9 + 5/12*7/11*4/10*6/9 + 5/12*7/11*6/10*4/9 + 7/12*5/11*4/10*6/9 + 7/12*5/11*6/10*4/9 + 7/12*6/11*5/10*4/9)"
   ]
  },
  {
   "cell_type": "code",
   "execution_count": 13,
   "metadata": {},
   "outputs": [
    {
     "data": {
      "text/plain": [
       "0.015151515151515152"
      ]
     },
     "execution_count": 13,
     "metadata": {},
     "output_type": "execute_result"
    }
   ],
   "source": [
    "# 0 белых из 1го + 3 белых из второго\n",
    "# число сочетаний для получения 2х не белых мячей из 1го ящика\n",
    "C31 = combinations(3, 2)\n",
    "# число сочетаний для получения 2х любых мячей из 1го ящика\n",
    "C01 = combinations(8, 2)\n",
    "\n",
    "# число сочетаний для получения 3х белых мячей и 1го не белого из 2го ящика\n",
    "C32 = combinations(5, 3) * combinations(7, 1)\n",
    "# число сочетаний для получения 4х любых мячей из 2го ящика\n",
    "C02 = combinations(12, 4)\n",
    "\n",
    "CIII = C31/C01 * C32/C02\n",
    "CIII"
   ]
  },
  {
   "cell_type": "code",
   "execution_count": 14,
   "metadata": {},
   "outputs": [
    {
     "data": {
      "text/plain": [
       "0.01515151515151515"
      ]
     },
     "execution_count": 14,
     "metadata": {},
     "output_type": "execute_result"
    }
   ],
   "source": [
    "(3/8*2/7)*(5/12*4/11*3/10*7/9 + 5/12*4/11*7/10*3/9 + 5/12*7/11*4/10*3/9 + 7/12*5/11*4/10*3/9)"
   ]
  },
  {
   "cell_type": "code",
   "execution_count": 15,
   "metadata": {},
   "outputs": [
    {
     "name": "stdout",
     "output_type": "stream",
     "text": [
      "Вероятность, что 3 мяча белых: 36.869 %\n"
     ]
    }
   ],
   "source": [
    "print(f'Вероятность, что 3 мяча белых: {(CI + CII + CIII) * 100:.3f} %')"
   ]
  },
  {
   "cell_type": "markdown",
   "metadata": {},
   "source": [
    "#### 3. На соревновании по биатлону один из трех спортсменов стреляет и попадает в мишень. Вероятность попадания для первого спортсмена равна 0.9, для второго — 0.8, для третьего — 0.6. Найти вероятность того, что выстрел произведен: a). первым спортсменом б). вторым спортсменом в). третьим спортсменом."
   ]
  },
  {
   "cell_type": "code",
   "execution_count": 16,
   "metadata": {},
   "outputs": [],
   "source": [
    "# Формула Байеса\n",
    "def bayes(P_B, P_AB, P_A):\n",
    "    return P_B * P_AB / P_A"
   ]
  },
  {
   "cell_type": "code",
   "execution_count": 17,
   "metadata": {},
   "outputs": [],
   "source": [
    "# вероятность выстрела каждым спортсменом\n",
    "P_B1 = 1/3\n",
    "P_B2 = 1/3\n",
    "P_B3 = 1/3\n",
    "\n",
    "# вероятность попадания для каждого спортсмена\n",
    "P_AB1 = 0.9\n",
    "P_AB2 = 0.8\n",
    "P_AB3 = 0.6"
   ]
  },
  {
   "cell_type": "code",
   "execution_count": 18,
   "metadata": {},
   "outputs": [
    {
     "data": {
      "text/plain": [
       "0.7666666666666666"
      ]
     },
     "execution_count": 18,
     "metadata": {},
     "output_type": "execute_result"
    }
   ],
   "source": [
    "# событие A - попадание в мишень, ее полная вероятность\n",
    "P_A = P_B1 * P_AB1 + P_B2 * P_AB2 + P_B3 * P_AB3\n",
    "P_A"
   ]
  },
  {
   "cell_type": "code",
   "execution_count": 19,
   "metadata": {},
   "outputs": [
    {
     "name": "stdout",
     "output_type": "stream",
     "text": [
      "Вероятность, что выстрел произведен первым спортсменом: 39.130 %\n",
      "Вероятность, что выстрел произведен вторым спортсменом: 34.783 %\n",
      "Вероятность, что выстрел произведен третьим спортсменом: 26.087 %\n"
     ]
    }
   ],
   "source": [
    "print(f'Вероятность, что выстрел произведен первым спортсменом: {bayes(P_B1, P_AB1, P_A) * 100:.3f} %')\n",
    "print(f'Вероятность, что выстрел произведен вторым спортсменом: {bayes(P_B2, P_AB2, P_A) * 100:.3f} %')\n",
    "print(f'Вероятность, что выстрел произведен третьим спортсменом: {bayes(P_B3, P_AB3, P_A) * 100:.3f} %')"
   ]
  },
  {
   "cell_type": "code",
   "execution_count": 20,
   "metadata": {},
   "outputs": [
    {
     "data": {
      "text/plain": [
       "1.0"
      ]
     },
     "execution_count": 20,
     "metadata": {},
     "output_type": "execute_result"
    }
   ],
   "source": [
    "bayes(P_B1, P_AB1, P_A) + bayes(P_B2, P_AB2, P_A) + bayes(P_B3, P_AB3, P_A)"
   ]
  },
  {
   "cell_type": "markdown",
   "metadata": {},
   "source": [
    "#### 4. В университет на факультеты A и B поступило равное количество студентов, а на факультет C студентов поступило столько же, сколько на A и B вместе. Вероятность того, что студент факультета A сдаст первую сессию, равна 0.8. Для студента факультета B эта вероятность равна 0.7, а для студента факультета C - 0.9. Студент сдал первую сессию. Какова вероятность, что он учится: a). на факультете A б). на факультете B в). на факультете C?"
   ]
  },
  {
   "cell_type": "code",
   "execution_count": 21,
   "metadata": {},
   "outputs": [],
   "source": [
    "# вероятность учебы студентов на факультетах\n",
    "P_B_A = 1/4\n",
    "P_B_B = 1/4\n",
    "P_B_C = 2/4\n",
    "\n",
    "# вероятность сдачи сессии для студентов разных факультетов\n",
    "P_AB_A = 0.8\n",
    "P_AB_B = 0.7\n",
    "P_AB_C = 0.9"
   ]
  },
  {
   "cell_type": "code",
   "execution_count": 22,
   "metadata": {},
   "outputs": [
    {
     "data": {
      "text/plain": [
       "0.825"
      ]
     },
     "execution_count": 22,
     "metadata": {},
     "output_type": "execute_result"
    }
   ],
   "source": [
    "# событие A - сдача сессии, ее полная вероятность\n",
    "P_A = P_B_A * P_AB_A + P_B_B * P_AB_B + P_B_C * P_AB_C\n",
    "P_A"
   ]
  },
  {
   "cell_type": "code",
   "execution_count": 23,
   "metadata": {},
   "outputs": [
    {
     "name": "stdout",
     "output_type": "stream",
     "text": [
      "Вероятность, что сессию сдал студент факультета A: 24.242 %\n",
      "Вероятность, что сессию сдал студент факультета B: 21.212 %\n",
      "Вероятность, что сессию сдал студент факультета C: 54.545 %\n"
     ]
    }
   ],
   "source": [
    "print(f'Вероятность, что сессию сдал студент факультета A: {bayes(P_B_A, P_AB_A, P_A) * 100:.3f} %')\n",
    "print(f'Вероятность, что сессию сдал студент факультета B: {bayes(P_B_B, P_AB_B, P_A) * 100:.3f} %')\n",
    "print(f'Вероятность, что сессию сдал студент факультета C: {bayes(P_B_C, P_AB_C, P_A) * 100:.3f} %')"
   ]
  },
  {
   "cell_type": "code",
   "execution_count": 24,
   "metadata": {},
   "outputs": [
    {
     "data": {
      "text/plain": [
       "1.0"
      ]
     },
     "execution_count": 24,
     "metadata": {},
     "output_type": "execute_result"
    }
   ],
   "source": [
    "bayes(P_B_A, P_AB_A, P_A) + bayes(P_B_B, P_AB_B, P_A) + bayes(P_B_C, P_AB_C, P_A)"
   ]
  },
  {
   "cell_type": "markdown",
   "metadata": {},
   "source": [
    "#### 5. Устройство состоит из трех деталей. Для первой детали вероятность выйти из строя в первый месяц равна 0.1, для второй - 0.2, для третьей - 0.25. Какова вероятность того, что в первый месяц выйдут из строя: а). все детали б). только две детали в). хотя бы одна деталь г). от одной до двух деталей?"
   ]
  },
  {
   "cell_type": "code",
   "execution_count": 25,
   "metadata": {},
   "outputs": [],
   "source": [
    "# вероятность участия детали в поломке устройства\n",
    "P_B1 = 1/3\n",
    "P_B2 = 1/3\n",
    "P_B3 = 1/3\n",
    "\n",
    "# вероятность выйти из строя в первый месяц для деталей\n",
    "P_AB1 = 0.1\n",
    "P_AB2 = 0.2\n",
    "P_AB3 = 0.25"
   ]
  },
  {
   "cell_type": "code",
   "execution_count": 26,
   "metadata": {},
   "outputs": [
    {
     "name": "stdout",
     "output_type": "stream",
     "text": [
      "Вероятность выхода из строя в первый месяц всех деталей: 0.500 %\n"
     ]
    }
   ],
   "source": [
    "# событие A1 - выход из строя в первый месяц всех деталей, ее полная вероятность\n",
    "P_A1 = (P_B1 + P_B2 + P_B3) * P_AB1 * P_AB2 * P_AB3\n",
    "print(f'Вероятность выхода из строя в первый месяц всех деталей: {P_A1 * 100:.3f} %')"
   ]
  },
  {
   "cell_type": "code",
   "execution_count": 27,
   "metadata": {},
   "outputs": [
    {
     "name": "stdout",
     "output_type": "stream",
     "text": [
      "Вероятность выхода из строя в первый месяц только 2х деталей: 6.333 %\n"
     ]
    }
   ],
   "source": [
    "# событие A2 - выход из строя в первый месяц только 2х деталей, ее полная вероятность\n",
    "P_A2 = (P_B1 + P_B2) * P_AB1 * P_AB2 + (P_B1 + P_B3) * P_AB1 * P_AB3 + (P_B2 + P_B3) * P_AB2 * P_AB3\n",
    "print(f'Вероятность выхода из строя в первый месяц только 2х деталей: {P_A2 * 100:.3f} %')"
   ]
  },
  {
   "cell_type": "code",
   "execution_count": 28,
   "metadata": {
    "scrolled": true
   },
   "outputs": [
    {
     "name": "stdout",
     "output_type": "stream",
     "text": [
      "Вероятность выхода из строя в первый месяц хотя бы 1й детали: 25.167 %\n"
     ]
    }
   ],
   "source": [
    "# событие A3 - выход из строя в первый месяц хотя бы 1й детали (1й и более), ее полная вероятность\n",
    "P_A3 = P_B1 * P_AB1 + P_B2 * P_AB2 + P_B3 * P_AB3 + P_A1 + P_A2\n",
    "print(f'Вероятность выхода из строя в первый месяц хотя бы 1й детали: {P_A3 * 100:.3f} %')"
   ]
  },
  {
   "cell_type": "code",
   "execution_count": 29,
   "metadata": {},
   "outputs": [
    {
     "name": "stdout",
     "output_type": "stream",
     "text": [
      "Вероятность выхода из строя в первый месяц от 1й до 2х деталей: 24.667 %\n"
     ]
    }
   ],
   "source": [
    "# событие A4 - выход из строя в первый месяц от 1й до 2х деталей, ее полная вероятность\n",
    "P_A4 = P_B1 * P_AB1 + P_B2 * P_AB2 + P_B3 * P_AB3 + P_A2\n",
    "print(f'Вероятность выхода из строя в первый месяц от 1й до 2х деталей: {P_A4 * 100:.3f} %')"
   ]
  }
 ],
 "metadata": {
  "kernelspec": {
   "display_name": "Python 3",
   "language": "python",
   "name": "python3"
  },
  "language_info": {
   "codemirror_mode": {
    "name": "ipython",
    "version": 3
   },
   "file_extension": ".py",
   "mimetype": "text/x-python",
   "name": "python",
   "nbconvert_exporter": "python",
   "pygments_lexer": "ipython3",
   "version": "3.8.3"
  }
 },
 "nbformat": 4,
 "nbformat_minor": 4
}
