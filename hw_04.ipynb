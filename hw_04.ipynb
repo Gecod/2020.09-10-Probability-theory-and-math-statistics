{
 "cells": [
  {
   "cell_type": "markdown",
   "metadata": {},
   "source": [
    "## Урок 4. Непрерывные случайные величины. Функция распределения и плотность распределения вероятностей. Равномерное и нормальное распределение. Центральная предельная теорема"
   ]
  },
  {
   "cell_type": "markdown",
   "metadata": {},
   "source": [
    "#### 1. Случайная непрерывная величина A имеет равномерное распределение на промежутке (200, 800]. Найдите ее среднее значение и дисперсию."
   ]
  },
  {
   "cell_type": "code",
   "execution_count": 1,
   "metadata": {},
   "outputs": [],
   "source": [
    "a = 200\n",
    "b = 800"
   ]
  },
  {
   "cell_type": "code",
   "execution_count": 2,
   "metadata": {},
   "outputs": [
    {
     "data": {
      "text/plain": [
       "500.0"
      ]
     },
     "execution_count": 2,
     "metadata": {},
     "output_type": "execute_result"
    }
   ],
   "source": [
    "# среднее значение\n",
    "(a + b) / 2"
   ]
  },
  {
   "cell_type": "code",
   "execution_count": 3,
   "metadata": {},
   "outputs": [
    {
     "data": {
      "text/plain": [
       "30000.0"
      ]
     },
     "execution_count": 3,
     "metadata": {},
     "output_type": "execute_result"
    }
   ],
   "source": [
    "# дисперсия\n",
    "((b - a) ** 2) / 12"
   ]
  },
  {
   "cell_type": "markdown",
   "metadata": {},
   "source": [
    "#### 2. О случайной непрерывной равномерно распределенной величине B известно, что ее дисперсия равна 0.2. Можно ли найти правую границу величины B и ее среднее значение зная, что левая граница равна 0.5? Если да, найдите ее."
   ]
  },
  {
   "cell_type": "code",
   "execution_count": 4,
   "metadata": {},
   "outputs": [],
   "source": [
    "D = 0.2\n",
    "a = 0.5"
   ]
  },
  {
   "cell_type": "code",
   "execution_count": 5,
   "metadata": {},
   "outputs": [
    {
     "data": {
      "text/plain": [
       "2.049193338482967"
      ]
     },
     "execution_count": 5,
     "metadata": {},
     "output_type": "execute_result"
    }
   ],
   "source": [
    "# правая граница\n",
    "b = (D * 12) ** 0.5 + a\n",
    "b"
   ]
  },
  {
   "cell_type": "code",
   "execution_count": 6,
   "metadata": {},
   "outputs": [
    {
     "data": {
      "text/plain": [
       "1.2745966692414834"
      ]
     },
     "execution_count": 6,
     "metadata": {},
     "output_type": "execute_result"
    }
   ],
   "source": [
    "# среднее значение\n",
    "(a + b) / 2"
   ]
  },
  {
   "cell_type": "markdown",
   "metadata": {},
   "source": [
    "#### 3. Непрерывная случайная величина X распределена нормально и задана плотностью распределения \n",
    "#### f(x) = (1 / (4 * sqrt(2 * pi))) * (exp((-(x+2) ** 2) / 32)).\n",
    "#### Найдите:\n",
    "#### а). M(X)\n",
    "#### б). D(X)\n",
    "#### в). std(X) (среднее квадратичное отклонение)"
   ]
  },
  {
   "cell_type": "markdown",
   "metadata": {},
   "source": [
    "Исходим из формулы плотности вероятности нормального распределения\n",
    "$$f(x) = \\frac{1}{\\sigma \\sqrt{2 \\pi}} e ^ {- \\frac{(x - a)^2}{2 \\sigma^2}},$$\n",
    "где $a = M(X), \\; \\sigma^2 = D(X).$"
   ]
  },
  {
   "cell_type": "code",
   "execution_count": 7,
   "metadata": {},
   "outputs": [],
   "source": [
    "# математическое ожидание\n",
    "M_X = -2\n",
    "\n",
    "# дисперсия\n",
    "D_X = 16\n",
    "\n",
    "# среднее квадратичное отклонение\n",
    "std_X = 4"
   ]
  },
  {
   "cell_type": "markdown",
   "metadata": {},
   "source": [
    "#### 4. Рост взрослого населения города X имеет нормальное распределение. Причем, средний рост равен 174 см, а среднее квадратичное отклонение равно 8 см. Какова вероятность того, что случайным образом выбранный взрослый человек имеет рост:\n",
    "#### а). больше 182 см\n",
    "#### б). больше 190 см\n",
    "#### в). от 166 см до 190 см\n",
    "#### г). от 166 см до 182 см\n",
    "#### д). от 158 см до 190 см\n",
    "#### е). не выше 150 см или не ниже 190 см\n",
    "#### ё). не выше 150 см или не ниже 198 см\n",
    "#### ж). ниже 166 см."
   ]
  },
  {
   "cell_type": "code",
   "execution_count": 8,
   "metadata": {},
   "outputs": [],
   "source": [
    "mu_X = 174\n",
    "std_X = 8"
   ]
  },
  {
   "cell_type": "markdown",
   "metadata": {},
   "source": [
    "a) Какова вероятность того, что случайным образом выбранный взрослый человек имеет рост больше 182 см"
   ]
  },
  {
   "cell_type": "code",
   "execution_count": 9,
   "metadata": {},
   "outputs": [
    {
     "data": {
      "text/plain": [
       "1.0"
      ]
     },
     "execution_count": 9,
     "metadata": {},
     "output_type": "execute_result"
    }
   ],
   "source": [
    "x = 182\n",
    "Z1 = (x - mu_X) / std_X\n",
    "Z1"
   ]
  },
  {
   "cell_type": "code",
   "execution_count": 10,
   "metadata": {},
   "outputs": [
    {
     "name": "stdout",
     "output_type": "stream",
     "text": [
      "Вероятность для случая \"а\": 15.870 %\n"
     ]
    }
   ],
   "source": [
    "# определяем вероятность из таблиц\n",
    "P1 = 1 - 0.8413\n",
    "print(f'Вероятность для случая \"а\": {P1 * 100:.3f} %')"
   ]
  },
  {
   "cell_type": "code",
   "execution_count": 11,
   "metadata": {},
   "outputs": [
    {
     "name": "stdout",
     "output_type": "stream",
     "text": [
      "Вероятность для случая \"а\": 16.000 %\n"
     ]
    }
   ],
   "source": [
    "# или по правилу трех сигм: На отрезке от −σ до +σ расположено около 68% наблюдений. Значит:\n",
    "P1 = 0.5 - 0.68 / 2\n",
    "print(f'Вероятность для случая \"а\": {P1 * 100:.3f} %')"
   ]
  },
  {
   "cell_type": "markdown",
   "metadata": {},
   "source": [
    "б) Какова вероятность того, что случайным образом выбранный взрослый человек имеет рост больше 190 см"
   ]
  },
  {
   "cell_type": "code",
   "execution_count": 12,
   "metadata": {},
   "outputs": [
    {
     "data": {
      "text/plain": [
       "2.0"
      ]
     },
     "execution_count": 12,
     "metadata": {},
     "output_type": "execute_result"
    }
   ],
   "source": [
    "x = 190\n",
    "Z2 = (x - mu_X) / std_X\n",
    "Z2"
   ]
  },
  {
   "cell_type": "code",
   "execution_count": 13,
   "metadata": {},
   "outputs": [
    {
     "name": "stdout",
     "output_type": "stream",
     "text": [
      "Вероятность для случая \"б\": 2.280 %\n"
     ]
    }
   ],
   "source": [
    "# определяем вероятность из таблиц\n",
    "P2 = 0.0228\n",
    "print(f'Вероятность для случая \"б\": {P2 * 100:.3f} %')"
   ]
  },
  {
   "cell_type": "code",
   "execution_count": 14,
   "metadata": {},
   "outputs": [
    {
     "name": "stdout",
     "output_type": "stream",
     "text": [
      "Вероятность для случая \"б\": 2.300 %\n"
     ]
    }
   ],
   "source": [
    "# или по правилу трех сигм: На отрезке от −2σ до +2σ расположено около 95.4% наблюдений. Значит:\n",
    "P2 = 0.5 - 0.954 / 2\n",
    "print(f'Вероятность для случая \"б\": {P2 * 100:.3f} %')"
   ]
  },
  {
   "cell_type": "markdown",
   "metadata": {},
   "source": [
    "в) Какова вероятность того, что случайным образом выбранный взрослый человек имеет рост от 166 см до 190 см"
   ]
  },
  {
   "cell_type": "code",
   "execution_count": 15,
   "metadata": {},
   "outputs": [
    {
     "data": {
      "text/plain": [
       "(-1.0, 2.0)"
      ]
     },
     "execution_count": 15,
     "metadata": {},
     "output_type": "execute_result"
    }
   ],
   "source": [
    "x1 = 166\n",
    "x2 = 190\n",
    "Z31 = (x1 - mu_X) / std_X\n",
    "Z32 = (x2 - mu_X) / std_X\n",
    "Z31, Z32"
   ]
  },
  {
   "cell_type": "code",
   "execution_count": 16,
   "metadata": {},
   "outputs": [
    {
     "name": "stdout",
     "output_type": "stream",
     "text": [
      "Вероятность для случая \"в\": 81.850 %\n"
     ]
    }
   ],
   "source": [
    "# определяем вероятность из таблиц\n",
    "P31 = 0.1587\n",
    "P32 = 1 - 0.0228\n",
    "P3 = P32 - P31\n",
    "print(f'Вероятность для случая \"в\": {P3 * 100:.3f} %')"
   ]
  },
  {
   "cell_type": "code",
   "execution_count": 17,
   "metadata": {},
   "outputs": [
    {
     "name": "stdout",
     "output_type": "stream",
     "text": [
      "Вероятность для случая \"в\": 81.700 %\n"
     ]
    }
   ],
   "source": [
    "# или по правилу трех сигм: На отрезке от −σ до +σ расположено около 68% наблюдений, от −2σ до +2σ - 95.4% наблюдений. Значит:\n",
    "P31 = 0.5 - 0.68 / 2\n",
    "P32 = 0.5 + 0.954 / 2\n",
    "P3 = P32 - P31\n",
    "print(f'Вероятность для случая \"в\": {P3 * 100:.3f} %')"
   ]
  },
  {
   "cell_type": "markdown",
   "metadata": {},
   "source": [
    "г) Какова вероятность того, что случайным образом выбранный взрослый человек имеет рост от 166 см до 182 см"
   ]
  },
  {
   "cell_type": "code",
   "execution_count": 18,
   "metadata": {},
   "outputs": [
    {
     "data": {
      "text/plain": [
       "(-1.0, 1.0)"
      ]
     },
     "execution_count": 18,
     "metadata": {},
     "output_type": "execute_result"
    }
   ],
   "source": [
    "x1 = 166\n",
    "x2 = 182\n",
    "Z41 = (x1 - mu_X) / std_X\n",
    "Z42 = (x2 - mu_X) / std_X\n",
    "Z41, Z42"
   ]
  },
  {
   "cell_type": "code",
   "execution_count": 19,
   "metadata": {},
   "outputs": [
    {
     "name": "stdout",
     "output_type": "stream",
     "text": [
      "Вероятность для случая \"г\": 68.260 %\n"
     ]
    }
   ],
   "source": [
    "# определяем вероятность из таблиц\n",
    "P41 = 0.1587\n",
    "P42 = 0.8413\n",
    "P4 = P42 - P41\n",
    "print(f'Вероятность для случая \"г\": {P4 * 100:.3f} %')"
   ]
  },
  {
   "cell_type": "code",
   "execution_count": 20,
   "metadata": {},
   "outputs": [
    {
     "name": "stdout",
     "output_type": "stream",
     "text": [
      "Вероятность для случая \"г\": 68.000 %\n"
     ]
    }
   ],
   "source": [
    "# или по правилу трех сигм: На отрезке от −σ до +σ расположено около 68% наблюдений. \n",
    "# Что и соответствует нашему случаю (-1.0, 1.0) Значит:\n",
    "P4 = 0.68\n",
    "print(f'Вероятность для случая \"г\": {P4 * 100:.3f} %')"
   ]
  },
  {
   "cell_type": "markdown",
   "metadata": {},
   "source": [
    "д) Какова вероятность того, что случайным образом выбранный взрослый человек имеет рост от 158 см до 190 см"
   ]
  },
  {
   "cell_type": "code",
   "execution_count": 21,
   "metadata": {},
   "outputs": [
    {
     "data": {
      "text/plain": [
       "(-2.0, 2.0)"
      ]
     },
     "execution_count": 21,
     "metadata": {},
     "output_type": "execute_result"
    }
   ],
   "source": [
    "x1 = 158\n",
    "x2 = 190\n",
    "Z51 = (x1 - mu_X) / std_X\n",
    "Z52 = (x2 - mu_X) / std_X\n",
    "Z51, Z52"
   ]
  },
  {
   "cell_type": "code",
   "execution_count": 22,
   "metadata": {},
   "outputs": [
    {
     "name": "stdout",
     "output_type": "stream",
     "text": [
      "Вероятность для случая \"д\": 95.440 %\n"
     ]
    }
   ],
   "source": [
    "# определяем вероятность из таблиц\n",
    "P51 = 0.0228\n",
    "P52 = 1 - 0.0228\n",
    "P5 = P52 - P51\n",
    "print(f'Вероятность для случая \"д\": {P5 * 100:.3f} %')"
   ]
  },
  {
   "cell_type": "code",
   "execution_count": 23,
   "metadata": {},
   "outputs": [
    {
     "name": "stdout",
     "output_type": "stream",
     "text": [
      "Вероятность для случая \"д\": 95.400 %\n"
     ]
    }
   ],
   "source": [
    "# или по правилу трех сигм: На отрезке от −2σ до +2σ расположено около 95.4% наблюдений. \n",
    "# Что и соответствует нашему случаю (-2.0, 2.0) Значит:\n",
    "P5 = 0.954\n",
    "print(f'Вероятность для случая \"д\": {P5 * 100:.3f} %')"
   ]
  },
  {
   "cell_type": "markdown",
   "metadata": {},
   "source": [
    "е) Какова вероятность того, что случайным образом выбранный взрослый человек имеет рост не выше 150 см или не ниже 190 см"
   ]
  },
  {
   "cell_type": "code",
   "execution_count": 24,
   "metadata": {},
   "outputs": [
    {
     "data": {
      "text/plain": [
       "(-3.0, 2.0)"
      ]
     },
     "execution_count": 24,
     "metadata": {},
     "output_type": "execute_result"
    }
   ],
   "source": [
    "x1 = 150\n",
    "x2 = 190\n",
    "Z61 = (x1 - mu_X) / std_X\n",
    "Z62 = (x2 - mu_X) / std_X\n",
    "Z61, Z62"
   ]
  },
  {
   "cell_type": "code",
   "execution_count": 25,
   "metadata": {},
   "outputs": [
    {
     "name": "stdout",
     "output_type": "stream",
     "text": [
      "Вероятность для случая \"е\": 2.415 %\n"
     ]
    }
   ],
   "source": [
    "# определяем вероятность из таблиц\n",
    "P61 = 1 - 0.99865  # не выше 150 см (из сети интернет)\n",
    "P62 = 0.0228  # не ниже 190 см\n",
    "P6 = P62 + P61\n",
    "print(f'Вероятность для случая \"е\": {P6 * 100:.3f} %')"
   ]
  },
  {
   "cell_type": "code",
   "execution_count": 26,
   "metadata": {},
   "outputs": [
    {
     "name": "stdout",
     "output_type": "stream",
     "text": [
      "Вероятность для случая \"е\": 2.440 %\n"
     ]
    }
   ],
   "source": [
    "# или по правилу трех сигм: На отрезке от −2σ до +2σ расположено около 95.4% наблюдений, \n",
    "# от −3σ до +3σ - 99.72 % наблюдений. Значит:\n",
    "P61 = 0.5 - 0.9972 / 2  # не выше 150 см\n",
    "P62 = 0.5 - 0.954 / 2  # не ниже 190 см\n",
    "P6 = P62 + P61\n",
    "print(f'Вероятность для случая \"е\": {P6 * 100:.3f} %')"
   ]
  },
  {
   "cell_type": "markdown",
   "metadata": {},
   "source": [
    "ё) Какова вероятность того, что случайным образом выбранный взрослый человек имеет рост не выше 150 см или не ниже 198 см"
   ]
  },
  {
   "cell_type": "code",
   "execution_count": 27,
   "metadata": {},
   "outputs": [
    {
     "data": {
      "text/plain": [
       "(-3.0, 3.0)"
      ]
     },
     "execution_count": 27,
     "metadata": {},
     "output_type": "execute_result"
    }
   ],
   "source": [
    "x1 = 150\n",
    "x2 = 198\n",
    "Z71 = (x1 - mu_X) / std_X\n",
    "Z72 = (x2 - mu_X) / std_X\n",
    "Z71, Z72"
   ]
  },
  {
   "cell_type": "code",
   "execution_count": 28,
   "metadata": {},
   "outputs": [
    {
     "name": "stdout",
     "output_type": "stream",
     "text": [
      "Вероятность для случая \"ё\": 0.270 %\n"
     ]
    }
   ],
   "source": [
    "# определяем вероятность из таблиц\n",
    "P71 = 1 - 0.99865  # не выше 150 см (из сети интернет)\n",
    "P72 = 1 - 0.99865  # не ниже 198 см (из сети интернет)\n",
    "P7 = P72 + P71\n",
    "print(f'Вероятность для случая \"ё\": {P7 * 100:.3f} %')"
   ]
  },
  {
   "cell_type": "code",
   "execution_count": 29,
   "metadata": {},
   "outputs": [
    {
     "name": "stdout",
     "output_type": "stream",
     "text": [
      "Вероятность для случая \"ё\": 0.280 %\n"
     ]
    }
   ],
   "source": [
    "# или по правилу трех сигм: На отрезке от −3σ до +3σ расположено около 99.72% наблюдений. \n",
    "# Что и соответствует нашему случаю (-3.0, 3.0) Значит:\n",
    "P7 = 1 - 0.9972\n",
    "print(f'Вероятность для случая \"ё\": {P7 * 100:.3f} %')"
   ]
  },
  {
   "cell_type": "markdown",
   "metadata": {},
   "source": [
    "ж) Какова вероятность того, что случайным образом выбранный взрослый человек имеет рост ниже 166 см"
   ]
  },
  {
   "cell_type": "code",
   "execution_count": 30,
   "metadata": {},
   "outputs": [
    {
     "data": {
      "text/plain": [
       "-1.0"
      ]
     },
     "execution_count": 30,
     "metadata": {},
     "output_type": "execute_result"
    }
   ],
   "source": [
    "x = 166\n",
    "Z8 = (x - mu_X) / std_X\n",
    "Z8"
   ]
  },
  {
   "cell_type": "code",
   "execution_count": 31,
   "metadata": {},
   "outputs": [
    {
     "name": "stdout",
     "output_type": "stream",
     "text": [
      "Вероятность для случая \"ж\": 15.870 %\n"
     ]
    }
   ],
   "source": [
    "# определяем вероятность из таблиц\n",
    "P8 = 0.1587\n",
    "print(f'Вероятность для случая \"ж\": {P8 * 100:.3f} %')"
   ]
  },
  {
   "cell_type": "code",
   "execution_count": 32,
   "metadata": {},
   "outputs": [
    {
     "name": "stdout",
     "output_type": "stream",
     "text": [
      "Вероятность для случая \"ж\": 16.000 %\n"
     ]
    }
   ],
   "source": [
    "# или по правилу трех сигм: На отрезке от −σ до +σ расположено около 68% наблюдений. Значит:\n",
    "P8 = 0.5 - 0.68 / 2\n",
    "print(f'Вероятность для случая \"ж\": {P8 * 100:.3f} %')"
   ]
  },
  {
   "cell_type": "markdown",
   "metadata": {},
   "source": [
    "#### 5. На сколько сигм (средних квадратичных отклонений) отклоняется рост человека, равный 190 см, от математического ожидания роста в популяции, в которой M(X) = 178 см и D(X) = 25 кв.см?"
   ]
  },
  {
   "cell_type": "code",
   "execution_count": 33,
   "metadata": {},
   "outputs": [
    {
     "data": {
      "text/plain": [
       "5.0"
      ]
     },
     "execution_count": 33,
     "metadata": {},
     "output_type": "execute_result"
    }
   ],
   "source": [
    "x = 190\n",
    "M_X = 178\n",
    "D_X = 25\n",
    "std_X = D_X ** 0.5\n",
    "std_X"
   ]
  },
  {
   "cell_type": "markdown",
   "metadata": {},
   "source": [
    "Таким образом рост человека, равный 190 см, отклоняется от математического ожидания на:"
   ]
  },
  {
   "cell_type": "code",
   "execution_count": 34,
   "metadata": {},
   "outputs": [
    {
     "name": "stdout",
     "output_type": "stream",
     "text": [
      "Рост человека, равный 190 см, отклоняется от математического ожидания на 2.4 сигмы\n"
     ]
    }
   ],
   "source": [
    "delta_std_x = (x - M_X) / std_X\n",
    "print(f'Рост человека, равный 190 см, отклоняется от математического ожидания на {delta_std_x} сигмы')"
   ]
  }
 ],
 "metadata": {
  "kernelspec": {
   "display_name": "Python 3",
   "language": "python",
   "name": "python3"
  },
  "language_info": {
   "codemirror_mode": {
    "name": "ipython",
    "version": 3
   },
   "file_extension": ".py",
   "mimetype": "text/x-python",
   "name": "python",
   "nbconvert_exporter": "python",
   "pygments_lexer": "ipython3",
   "version": "3.8.3"
  }
 },
 "nbformat": 4,
 "nbformat_minor": 4
}
