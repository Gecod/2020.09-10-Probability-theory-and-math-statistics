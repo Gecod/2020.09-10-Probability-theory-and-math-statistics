{
 "cells": [
  {
   "cell_type": "markdown",
   "metadata": {},
   "source": [
    "## Урок 6. Взаимосвязь величин. Параметрические и непараметрические показатели корреляции. Корреляционный анализ"
   ]
  },
  {
   "cell_type": "markdown",
   "metadata": {},
   "source": [
    "#### 1. Даны значения величины заработной платы заемщиков банка (zp) и значения их поведенческого кредитного скоринга (ks): zp = [35, 45, 190, 200, 40, 70, 54, 150, 120, 110], ks = [401, 574, 874, 919, 459, 739, 653, 902, 746, 832]. Используя математические операции, посчитать коэффициенты линейной регрессии, приняв за X заработную плату (то есть, zp - признак), а за y - значения скорингового балла (то есть, ks - целевая переменная). Произвести расчет как с использованием intercept, так и без."
   ]
  },
  {
   "cell_type": "code",
   "execution_count": 1,
   "metadata": {},
   "outputs": [],
   "source": [
    "import numpy as np"
   ]
  },
  {
   "cell_type": "code",
   "execution_count": 2,
   "metadata": {},
   "outputs": [],
   "source": [
    "zp = np.array([35, 45, 190, 200, 40, 70, 54, 150, 120, 110])\n",
    "ks = np.array([401, 574, 874, 919, 459, 739, 653, 902, 746, 832])"
   ]
  },
  {
   "cell_type": "code",
   "execution_count": 3,
   "metadata": {},
   "outputs": [],
   "source": [
    "X = zp\n",
    "y = ks"
   ]
  },
  {
   "cell_type": "markdown",
   "metadata": {},
   "source": [
    "с intercept"
   ]
  },
  {
   "cell_type": "code",
   "execution_count": 4,
   "metadata": {},
   "outputs": [
    {
     "data": {
      "text/plain": [
       "2.620538882402765"
      ]
     },
     "execution_count": 4,
     "metadata": {},
     "output_type": "execute_result"
    }
   ],
   "source": [
    "B1 = (np.mean(X*y) - np.mean(X) * np.mean(y)) / (np.mean(X ** 2) - np.mean(X) ** 2)\n",
    "B1"
   ]
  },
  {
   "cell_type": "code",
   "execution_count": 5,
   "metadata": {},
   "outputs": [
    {
     "data": {
      "text/plain": [
       "444.1773573243596"
      ]
     },
     "execution_count": 5,
     "metadata": {},
     "output_type": "execute_result"
    }
   ],
   "source": [
    "B0 = np.mean(y) - B1 * np.mean(X)\n",
    "B0"
   ]
  },
  {
   "cell_type": "code",
   "execution_count": 6,
   "metadata": {},
   "outputs": [
    {
     "data": {
      "text/plain": [
       "array([535.89621821, 562.10160703, 942.07974498, 968.2851338 ,\n",
       "       548.99891262, 627.61507909, 585.68645697, 837.25818968,\n",
       "       758.64202321, 732.43663439])"
      ]
     },
     "execution_count": 6,
     "metadata": {},
     "output_type": "execute_result"
    }
   ],
   "source": [
    "y_hat = B0 + B1 * X\n",
    "y_hat"
   ]
  },
  {
   "cell_type": "code",
   "execution_count": 7,
   "metadata": {},
   "outputs": [
    {
     "data": {
      "text/plain": [
       "6470.414201176658"
      ]
     },
     "execution_count": 7,
     "metadata": {},
     "output_type": "execute_result"
    }
   ],
   "source": [
    "def mse(y, y_hat):\n",
    "    return np.sum((y - y_hat) ** 2) / len(y)\n",
    "mse(y, y_hat)"
   ]
  },
  {
   "cell_type": "markdown",
   "metadata": {},
   "source": [
    "без intercept"
   ]
  },
  {
   "cell_type": "code",
   "execution_count": 8,
   "metadata": {},
   "outputs": [
    {
     "data": {
      "text/plain": [
       "7.000986193293885"
      ]
     },
     "execution_count": 8,
     "metadata": {},
     "output_type": "execute_result"
    }
   ],
   "source": [
    "B1_ = np.mean(y) / np.mean(X)\n",
    "B1_"
   ]
  },
  {
   "cell_type": "code",
   "execution_count": 9,
   "metadata": {},
   "outputs": [
    {
     "data": {
      "text/plain": [
       "array([ 245.03451677,  315.0443787 , 1330.18737673, 1400.19723866,\n",
       "        280.03944773,  490.06903353,  378.05325444, 1050.14792899,\n",
       "        840.1183432 ,  770.10848126])"
      ]
     },
     "execution_count": 9,
     "metadata": {},
     "output_type": "execute_result"
    }
   ],
   "source": [
    "y_hat_ = B1_ * X\n",
    "y_hat_"
   ]
  },
  {
   "cell_type": "code",
   "execution_count": 10,
   "metadata": {},
   "outputs": [
    {
     "data": {
      "text/plain": [
       "73526.6800654739"
      ]
     },
     "execution_count": 10,
     "metadata": {},
     "output_type": "execute_result"
    }
   ],
   "source": [
    "mse(y, y_hat_)"
   ]
  },
  {
   "cell_type": "markdown",
   "metadata": {},
   "source": [
    "#### 2. Посчитать коэффициент линейной регрессии при заработной плате (zp), используя градиентный спуск (без intercept)."
   ]
  },
  {
   "cell_type": "code",
   "execution_count": 14,
   "metadata": {},
   "outputs": [],
   "source": [
    "def lin_reg(y, X, iters=100, B1=0.1, alpha=1e-6):\n",
    "    for i in range(iters+1):\n",
    "        B1 -= alpha * (2 / len(y)) * np.sum((B1 * X - y) * X)\n",
    "        if i % (iters/10) == 0:\n",
    "            print(f'Iteration: {i}, B1={B1}, mse={np.sum((B1 * X - y) ** 2) / len(y)}')"
   ]
  },
  {
   "cell_type": "code",
   "execution_count": 15,
   "metadata": {},
   "outputs": [
    {
     "name": "stdout",
     "output_type": "stream",
     "text": [
      "Iteration: 0, B1=2.347302, mse=229405.42884192182\n",
      "Iteration: 10, B1=5.748727835228332, mse=56791.110810876475\n",
      "Iteration: 20, B1=5.884200938409783, mse=56517.293461113455\n",
      "Iteration: 30, B1=5.889596605572516, mse=56516.859105830044\n",
      "Iteration: 40, B1=5.889811505973018, mse=56516.858416814124\n",
      "Iteration: 50, B1=5.8898200650966155, mse=56516.85841572114\n",
      "Iteration: 60, B1=5.889820405992196, mse=56516.85841571941\n",
      "Iteration: 70, B1=5.889820419569496, mse=56516.85841571941\n",
      "Iteration: 80, B1=5.889820420110257, mse=56516.8584157194\n",
      "Iteration: 90, B1=5.889820420131795, mse=56516.85841571941\n",
      "Iteration: 100, B1=5.8898204201326525, mse=56516.8584157194\n"
     ]
    }
   ],
   "source": [
    "# lin_reg(y, X, iters=100, B1=0.1, alpha=1e-6)\n",
    "lin_reg(y, X, 100, 1, 1e-5)"
   ]
  },
  {
   "cell_type": "markdown",
   "metadata": {},
   "source": [
    "#### 3. В каких случаях для вычисления доверительных интервалов и проверки статистических гипотез используется таблица значений функции Лапласа, а в каких - таблица критических точек распределения Стьюдента?"
   ]
  },
  {
   "cell_type": "markdown",
   "metadata": {},
   "source": [
    "Таблица значений функции Лапласа используется когда применяется z-критерий при известной СКО генеральной совокупности.\n",
    "\n",
    "Таблица критических точек распределения Стьюдента используется когда применяется t-критерий при неизвестной СКО генеральной совокупности."
   ]
  },
  {
   "cell_type": "markdown",
   "metadata": {},
   "source": [
    "#### 4*. Произвести вычисления как в пункте 2, но с вычислением intercept. Учесть, что изменение коэффициентов должно производиться на каждом шаге одновременно (то есть изменение одного коэффициента не должно влиять на изменение другого во время одной итерации)."
   ]
  },
  {
   "cell_type": "code",
   "execution_count": 16,
   "metadata": {},
   "outputs": [],
   "source": [
    "def lin_reg_intercept(y, X, iters=100, B0=0.1, B1=0.1, alpha=1e-6):\n",
    "    for i in range(iters+1):\n",
    "        B1 -= alpha * (2 / len(y)) * np.sum((B0 + B1 * X - y) * X)\n",
    "        B0 = np.mean(y) - B1 * np.mean(X)\n",
    "        if i % (iters/10) == 0:\n",
    "            print(f'Iteration: {i}, B0={B0}, B1={B1}, mse={np.sum((B0 + B1 * X - y) ** 2) / len(y)}')"
   ]
  },
  {
   "cell_type": "code",
   "execution_count": 17,
   "metadata": {},
   "outputs": [
    {
     "name": "stdout",
     "output_type": "stream",
     "text": [
      "Iteration: 0, B0=-755.6078360000002, B1=14.45274, mse=495723.45043619943\n",
      "Iteration: 10, B0=444.1700154461893, B1=2.6206112875129253, mse=6470.4142194973065\n",
      "Iteration: 20, B0=444.1773572794321, B1=2.620538882845837, mse=6470.41420117666\n",
      "Iteration: 30, B0=444.1773573243592, B1=2.620538882402769, mse=6470.414201176657\n",
      "Iteration: 40, B0=444.17735732435943, B1=2.6205388824027667, mse=6470.414201176657\n",
      "Iteration: 50, B0=444.17735732435943, B1=2.6205388824027667, mse=6470.414201176657\n",
      "Iteration: 60, B0=444.17735732435943, B1=2.6205388824027667, mse=6470.414201176657\n",
      "Iteration: 70, B0=444.17735732435943, B1=2.6205388824027667, mse=6470.414201176657\n",
      "Iteration: 80, B0=444.17735732435943, B1=2.6205388824027667, mse=6470.414201176657\n",
      "Iteration: 90, B0=444.17735732435943, B1=2.6205388824027667, mse=6470.414201176657\n",
      "Iteration: 100, B0=444.17735732435943, B1=2.6205388824027667, mse=6470.414201176657\n"
     ]
    }
   ],
   "source": [
    "# lin_reg_intercept(y, X, iters=100, B0=0.1, B1=0.1, alpha=1e-6)\n",
    "lin_reg_intercept(y, X, 100, 1, 1, 1e-4)"
   ]
  },
  {
   "cell_type": "code",
   "execution_count": null,
   "metadata": {},
   "outputs": [],
   "source": []
  },
  {
   "cell_type": "code",
   "execution_count": 18,
   "metadata": {},
   "outputs": [
    {
     "data": {
      "text/plain": [
       "array([[ 35],\n",
       "       [ 45],\n",
       "       [190],\n",
       "       [200],\n",
       "       [ 40],\n",
       "       [ 70],\n",
       "       [ 54],\n",
       "       [150],\n",
       "       [120],\n",
       "       [110]])"
      ]
     },
     "execution_count": 18,
     "metadata": {},
     "output_type": "execute_result"
    }
   ],
   "source": [
    "X = X.reshape(len(X), 1)\n",
    "X"
   ]
  },
  {
   "cell_type": "code",
   "execution_count": 19,
   "metadata": {},
   "outputs": [
    {
     "data": {
      "text/plain": [
       "array([[401],\n",
       "       [574],\n",
       "       [874],\n",
       "       [919],\n",
       "       [459],\n",
       "       [739],\n",
       "       [653],\n",
       "       [902],\n",
       "       [746],\n",
       "       [832]])"
      ]
     },
     "execution_count": 19,
     "metadata": {},
     "output_type": "execute_result"
    }
   ],
   "source": [
    "y = y.reshape(len(y), 1)\n",
    "y"
   ]
  },
  {
   "cell_type": "code",
   "execution_count": 20,
   "metadata": {},
   "outputs": [
    {
     "data": {
      "text/plain": [
       "array([[  1.,  35.],\n",
       "       [  1.,  45.],\n",
       "       [  1., 190.],\n",
       "       [  1., 200.],\n",
       "       [  1.,  40.],\n",
       "       [  1.,  70.],\n",
       "       [  1.,  54.],\n",
       "       [  1., 150.],\n",
       "       [  1., 120.],\n",
       "       [  1., 110.]])"
      ]
     },
     "execution_count": 20,
     "metadata": {},
     "output_type": "execute_result"
    }
   ],
   "source": [
    "X = np.hstack([np.ones((len(X), 1)), X])\n",
    "X"
   ]
  },
  {
   "cell_type": "code",
   "execution_count": 21,
   "metadata": {},
   "outputs": [
    {
     "data": {
      "text/plain": [
       "array([[444.17735732],\n",
       "       [  2.62053888]])"
      ]
     },
     "execution_count": 21,
     "metadata": {},
     "output_type": "execute_result"
    }
   ],
   "source": [
    "B = np.dot(np.linalg.inv(np.dot(X.T, X)), X.T@y)\n",
    "B"
   ]
  }
 ],
 "metadata": {
  "kernelspec": {
   "display_name": "Python 3",
   "language": "python",
   "name": "python3"
  },
  "language_info": {
   "codemirror_mode": {
    "name": "ipython",
    "version": 3
   },
   "file_extension": ".py",
   "mimetype": "text/x-python",
   "name": "python",
   "nbconvert_exporter": "python",
   "pygments_lexer": "ipython3",
   "version": "3.8.3"
  }
 },
 "nbformat": 4,
 "nbformat_minor": 4
}
