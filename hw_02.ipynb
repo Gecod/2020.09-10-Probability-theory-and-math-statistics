{
 "cells": [
  {
   "cell_type": "markdown",
   "metadata": {},
   "source": [
    "## Урок 2. Дискретные случайные величины. Закон распределения вероятностей. Биномиальный закон распределения. Распределение Пуассона"
   ]
  },
  {
   "cell_type": "markdown",
   "metadata": {},
   "source": [
    "#### 1. Вероятность того, что стрелок попадет в мишень, выстрелив один раз, равна 0.8. Стрелок выстрелил 100 раз. Найдите вероятность того, что стрелок попадет в цель ровно 85 раз."
   ]
  },
  {
   "cell_type": "markdown",
   "metadata": {},
   "source": [
    "Воспользуемся формулой биномиального распределения, т.к. по условию задачи мы имеем довольно высокую вероятность попадания стрелка в мишень и относительно небольшое количество попыток."
   ]
  },
  {
   "cell_type": "code",
   "execution_count": 1,
   "metadata": {},
   "outputs": [],
   "source": [
    "from math import factorial\n",
    "def binomial(n, k, p):\n",
    "    return factorial(n) / (factorial(k) * factorial(n - k)) * p ** k * (1 - p) ** (n - k)"
   ]
  },
  {
   "cell_type": "code",
   "execution_count": 2,
   "metadata": {},
   "outputs": [
    {
     "name": "stdout",
     "output_type": "stream",
     "text": [
      "Вероятность попадания в мишень 85 раз из 100: 4.81 %\n"
     ]
    }
   ],
   "source": [
    "print(f'Вероятность попадания в мишень 85 раз из 100: {binomial(100, 85, 0.8) * 100:.2f} %')"
   ]
  },
  {
   "cell_type": "markdown",
   "metadata": {},
   "source": [
    "#### 2. Вероятность того, что лампочка перегорит в течение первого дня эксплуатации, равна 0.0004. В жилом комплексе после ремонта в один день включили 5000 новых лампочек. Какова вероятность, что ни одна из них не перегорит в первый день? Какова вероятность, что перегорят ровно две?"
   ]
  },
  {
   "cell_type": "markdown",
   "metadata": {},
   "source": [
    "Воспользуемся формулой распределения Пуассона, т.к. по условию задачи мы имеем довольно низкую вероятность перегорания лампочки и относительно большое количество испытуемых лампочек."
   ]
  },
  {
   "cell_type": "code",
   "execution_count": 3,
   "metadata": {},
   "outputs": [],
   "source": [
    "import math\n",
    "def poisson(m, lambd):\n",
    "    return (lambd ** m) * math.exp(-lambd) / factorial(m)"
   ]
  },
  {
   "cell_type": "code",
   "execution_count": 4,
   "metadata": {},
   "outputs": [
    {
     "data": {
      "text/plain": [
       "2.0"
      ]
     },
     "execution_count": 4,
     "metadata": {},
     "output_type": "execute_result"
    }
   ],
   "source": [
    "m0 = 0\n",
    "m2 = 2\n",
    "n = 5000\n",
    "p = 0.0004\n",
    "lambd = p * n\n",
    "lambd"
   ]
  },
  {
   "cell_type": "code",
   "execution_count": 5,
   "metadata": {},
   "outputs": [
    {
     "name": "stdout",
     "output_type": "stream",
     "text": [
      "Вероятность, что в первый день не перегорит ни одна лампа: 13.53 %\n"
     ]
    }
   ],
   "source": [
    "print(f'Вероятность, что в первый день не перегорит ни одна лампа: {poisson(m0, lambd) * 100:.2f} %')"
   ]
  },
  {
   "cell_type": "code",
   "execution_count": 6,
   "metadata": {},
   "outputs": [
    {
     "name": "stdout",
     "output_type": "stream",
     "text": [
      "Вероятность, что в первый день перегорит две лампы: 27.07 %\n"
     ]
    }
   ],
   "source": [
    "print(f'Вероятность, что в первый день перегорит две лампы: {poisson(m2, lambd) * 100:.2f} %')"
   ]
  },
  {
   "cell_type": "markdown",
   "metadata": {},
   "source": [
    "#### 3. Монету подбросили 144 раза. Какова вероятность, что орел выпадет ровно 70 раз?"
   ]
  },
  {
   "cell_type": "code",
   "execution_count": 7,
   "metadata": {},
   "outputs": [
    {
     "name": "stdout",
     "output_type": "stream",
     "text": [
      "Вероятность, что орел выпадет 70 раз из 144: 6.28 %\n"
     ]
    }
   ],
   "source": [
    "print(f'Вероятность, что орел выпадет 70 раз из 144: {binomial(144, 70, 0.5) * 100:.2f} %')"
   ]
  },
  {
   "cell_type": "markdown",
   "metadata": {},
   "source": [
    "#### 4. В первом ящике находится 10 мячей, из которых 7 - белые. Во втором ящике - 11 мячей, из которых 9 белых. Из каждого ящика вытаскивают случайным образом по два мяча. Какова вероятность того, что все мячи белые? Какова вероятность того, что ровно два мяча белые? Какова вероятность того, что хотя бы один мяч белый?"
   ]
  },
  {
   "cell_type": "markdown",
   "metadata": {},
   "source": [
    "а) вероятность того, что все мячи белые"
   ]
  },
  {
   "cell_type": "code",
   "execution_count": 8,
   "metadata": {},
   "outputs": [
    {
     "name": "stdout",
     "output_type": "stream",
     "text": [
      "Вероятность, что все мячи белые: 30.545 %\n"
     ]
    }
   ],
   "source": [
    "# 7/10 - вероятность взять белый мяч из первого ящика в 1й раз\n",
    "# 6/9 - вероятность взять белый мяч из первого ящика во 2й раз\n",
    "# 9/11 - вероятность взять белый мяч из второго ящика в 1й раз\n",
    "# 8/10 - вероятность взять белый мяч из второго ящика во 2й раз\n",
    "# перемножаем все вероятности, т.к. требуется комбинация всех событий - логическое \"И\"\n",
    "\n",
    "print(f'Вероятность, что все мячи белые: {7/10 * 6/9 * 9/11 * 8/10 * 100:.3f} %')"
   ]
  },
  {
   "cell_type": "code",
   "execution_count": 9,
   "metadata": {},
   "outputs": [],
   "source": [
    "# через комбинаторику\n",
    "\n",
    "def combinations(n, k):\n",
    "    return int(factorial(n) / (factorial(k) * factorial(n - k)))"
   ]
  },
  {
   "cell_type": "code",
   "execution_count": 10,
   "metadata": {},
   "outputs": [
    {
     "data": {
      "text/plain": [
       "21"
      ]
     },
     "execution_count": 10,
     "metadata": {},
     "output_type": "execute_result"
    }
   ],
   "source": [
    "# число сочетаний для получения 2х белых мячей из 1го ящика\n",
    "C1 = combinations(7, 2)\n",
    "C1"
   ]
  },
  {
   "cell_type": "code",
   "execution_count": 11,
   "metadata": {},
   "outputs": [
    {
     "data": {
      "text/plain": [
       "45"
      ]
     },
     "execution_count": 11,
     "metadata": {},
     "output_type": "execute_result"
    }
   ],
   "source": [
    "# число сочетаний для получения 2х любых мячей из 1го ящика\n",
    "C01 = combinations(10, 2)\n",
    "C01"
   ]
  },
  {
   "cell_type": "code",
   "execution_count": 12,
   "metadata": {},
   "outputs": [
    {
     "data": {
      "text/plain": [
       "36"
      ]
     },
     "execution_count": 12,
     "metadata": {},
     "output_type": "execute_result"
    }
   ],
   "source": [
    "# число сочетаний для получения 2х белых мячей из 2го ящика\n",
    "C2 = combinations(9, 2)\n",
    "C2"
   ]
  },
  {
   "cell_type": "code",
   "execution_count": 13,
   "metadata": {},
   "outputs": [
    {
     "data": {
      "text/plain": [
       "55"
      ]
     },
     "execution_count": 13,
     "metadata": {},
     "output_type": "execute_result"
    }
   ],
   "source": [
    "# число сочетаний для получения 2х любых мячей из 2го ящика\n",
    "C02 = combinations(11, 2)\n",
    "C02"
   ]
  },
  {
   "cell_type": "code",
   "execution_count": 14,
   "metadata": {},
   "outputs": [
    {
     "name": "stdout",
     "output_type": "stream",
     "text": [
      "Вероятность, что все мячи белые: 30.545 %\n"
     ]
    }
   ],
   "source": [
    "print(f'Вероятность, что все мячи белые: {C1/C01 * C2/C02 * 100:.3f} %')"
   ]
  },
  {
   "cell_type": "markdown",
   "metadata": {},
   "source": [
    "б) вероятность того, что ровно два мяча белые"
   ]
  },
  {
   "cell_type": "code",
   "execution_count": 15,
   "metadata": {},
   "outputs": [
    {
     "data": {
      "text/plain": [
       "0.008484848484848482"
      ]
     },
     "execution_count": 15,
     "metadata": {},
     "output_type": "execute_result"
    }
   ],
   "source": [
    "# 2 белых из 1го ящика\n",
    "7/10*6/9*2/11*1/10"
   ]
  },
  {
   "cell_type": "code",
   "execution_count": 16,
   "metadata": {},
   "outputs": [
    {
     "data": {
      "text/plain": [
       "0.04363636363636363"
      ]
     },
     "execution_count": 16,
     "metadata": {},
     "output_type": "execute_result"
    }
   ],
   "source": [
    "# 2 белых из 2го ящика\n",
    "3/10*2/9*9/11*8/10"
   ]
  },
  {
   "cell_type": "code",
   "execution_count": 17,
   "metadata": {},
   "outputs": [
    {
     "data": {
      "text/plain": [
       "0.1527272727272727"
      ]
     },
     "execution_count": 17,
     "metadata": {},
     "output_type": "execute_result"
    }
   ],
   "source": [
    "# по 1 белому из каждого ящика\n",
    "(7/10*3/9+3/10*7/9)*(9/11*2/10+2/11*9/10)"
   ]
  },
  {
   "cell_type": "code",
   "execution_count": 18,
   "metadata": {},
   "outputs": [
    {
     "data": {
      "text/plain": [
       "0.20484848484848484"
      ]
     },
     "execution_count": 18,
     "metadata": {},
     "output_type": "execute_result"
    }
   ],
   "source": [
    "# суммируем все вероятности и получим вероятность того, что ровно два мяча белые\n",
    "CI = 7/10*6/9*2/11*1/10 + 3/10*2/9*9/11*8/10 + (7/10*3/9+3/10*7/9)*(9/11*2/10+2/11*9/10)\n",
    "CI"
   ]
  },
  {
   "cell_type": "code",
   "execution_count": 19,
   "metadata": {},
   "outputs": [
    {
     "data": {
      "text/plain": [
       "(21, 45, 1, 55)"
      ]
     },
     "execution_count": 19,
     "metadata": {},
     "output_type": "execute_result"
    }
   ],
   "source": [
    "# через комбинаторику\n",
    "\n",
    "# число сочетаний для получения 2х белых мячей из 1го ящика\n",
    "C11 = combinations(7, 2)\n",
    "\n",
    "# число сочетаний для получения 2х любых мячей из 1го ящика\n",
    "C01 = combinations(10, 2)\n",
    "\n",
    "# число сочетаний для получения 2х не белых мячей из 2го ящика\n",
    "C12 = combinations(2, 2)\n",
    "\n",
    "# число сочетаний для получения 2х любых мячей из 2го ящика\n",
    "C02 = combinations(11, 2)\n",
    "\n",
    "C11, C01, C12, C02"
   ]
  },
  {
   "cell_type": "code",
   "execution_count": 20,
   "metadata": {},
   "outputs": [
    {
     "data": {
      "text/plain": [
       "(3, 45, 36, 55)"
      ]
     },
     "execution_count": 20,
     "metadata": {},
     "output_type": "execute_result"
    }
   ],
   "source": [
    "# число сочетаний для получения 2х не белых мячей из 1го ящика\n",
    "C21 = combinations(3, 2)\n",
    "\n",
    "# число сочетаний для получения 2х любых мячей из 1го ящика\n",
    "C01 = combinations(10, 2)\n",
    "\n",
    "# число сочетаний для получения 2х белых мячей из 2го ящика\n",
    "C22 = combinations(9, 2)\n",
    "\n",
    "# число сочетаний для получения 2х любых мячей из 2го ящика\n",
    "C02 = combinations(11, 2)\n",
    "\n",
    "C21, C01, C22, C02"
   ]
  },
  {
   "cell_type": "code",
   "execution_count": 21,
   "metadata": {},
   "outputs": [
    {
     "data": {
      "text/plain": [
       "(7, 3, 45, 9, 2, 55)"
      ]
     },
     "execution_count": 21,
     "metadata": {},
     "output_type": "execute_result"
    }
   ],
   "source": [
    "# число сочетаний для получения 1го белого мяча из 1го ящика\n",
    "C31 = combinations(7, 1)\n",
    "# число сочетаний для получения 1го не белого мяча из 1го ящика\n",
    "C41 = combinations(3, 1)\n",
    "\n",
    "# число сочетаний для получения 2х любых мячей из 1го ящика\n",
    "C01 = combinations(10, 2)\n",
    "\n",
    "# число сочетаний для получения 1го белого мяча из 2го ящика\n",
    "C32 = combinations(9, 1)\n",
    "# число сочетаний для получения 1го не белого мяча из 2го ящика\n",
    "C42 = combinations(2, 1)\n",
    "\n",
    "# число сочетаний для получения 2х любых мячей из 2го ящика\n",
    "C02 = combinations(11, 2)\n",
    "\n",
    "C31, C41, C01, C32, C42, C02"
   ]
  },
  {
   "cell_type": "code",
   "execution_count": 22,
   "metadata": {},
   "outputs": [
    {
     "data": {
      "text/plain": [
       "(0.008484848484848486, 0.04363636363636363, 0.15272727272727274)"
      ]
     },
     "execution_count": 22,
     "metadata": {},
     "output_type": "execute_result"
    }
   ],
   "source": [
    "# 2 белых из 1го ящика\n",
    "C10 = C11/C01 * C12/C02\n",
    "\n",
    "# 2 белых из 2го ящика\n",
    "C20 = C21/C01 * C22/C02\n",
    "\n",
    "# по 1 белому из каждого ящика\n",
    "C30 = C31*C41/C01 * C32*C42/C02\n",
    "\n",
    "C10, C20, C30"
   ]
  },
  {
   "cell_type": "code",
   "execution_count": 23,
   "metadata": {},
   "outputs": [
    {
     "data": {
      "text/plain": [
       "0.20484848484848486"
      ]
     },
     "execution_count": 23,
     "metadata": {},
     "output_type": "execute_result"
    }
   ],
   "source": [
    "# суммируем все вероятности и получим вероятность того, что ровно два мяча белые\n",
    "CII = C10 + C20 + C30\n",
    "CII"
   ]
  },
  {
   "cell_type": "code",
   "execution_count": 24,
   "metadata": {},
   "outputs": [
    {
     "data": {
      "text/plain": [
       "2.7755575615628914e-17"
      ]
     },
     "execution_count": 24,
     "metadata": {},
     "output_type": "execute_result"
    }
   ],
   "source": [
    "# сравнив результаты разных подходов получим разницу менее 3*10^-17\n",
    "CII - CI"
   ]
  },
  {
   "cell_type": "markdown",
   "metadata": {},
   "source": [
    "в) вероятность того, что хотя бы один мяч белый (белых 1 или больше)"
   ]
  },
  {
   "cell_type": "code",
   "execution_count": 25,
   "metadata": {},
   "outputs": [
    {
     "data": {
      "text/plain": [
       "0.0012121212121212121"
      ]
     },
     "execution_count": 25,
     "metadata": {},
     "output_type": "execute_result"
    }
   ],
   "source": [
    "# все не белые\n",
    "3/10*2/9*2/11*1/10"
   ]
  },
  {
   "cell_type": "code",
   "execution_count": 26,
   "metadata": {},
   "outputs": [
    {
     "data": {
      "text/plain": [
       "0.9987878787878788"
      ]
     },
     "execution_count": 26,
     "metadata": {},
     "output_type": "execute_result"
    }
   ],
   "source": [
    "# вычитая вероятность получения всех не белых мячей из 1, получим вероятность получения хотя бы 1го белого мяча\n",
    "1-3/10*2/9*2/11*1/10"
   ]
  },
  {
   "cell_type": "code",
   "execution_count": 27,
   "metadata": {},
   "outputs": [],
   "source": [
    "# через комбинаторику\n",
    "# найдем число сочетаний, когда все мячи не белые\n",
    "\n",
    "# число сочетаний для получения 2х не белых мячей из 1го ящика\n",
    "C11 = combinations(3, 2)\n",
    "# число сочетаний для получения 2х любых мячей из 1го ящика\n",
    "C01 = combinations(10, 2)\n",
    "\n",
    "# число сочетаний для получения 2х не белых мячей из 2го ящика\n",
    "C12 = combinations(2, 2)\n",
    "# число сочетаний для получения 2х любых мячей из 2го ящика\n",
    "C02 = combinations(11, 2)"
   ]
  },
  {
   "cell_type": "code",
   "execution_count": 28,
   "metadata": {},
   "outputs": [
    {
     "data": {
      "text/plain": [
       "0.9987878787878788"
      ]
     },
     "execution_count": 28,
     "metadata": {},
     "output_type": "execute_result"
    }
   ],
   "source": [
    "# вычитая вероятность получения всех не белых мячей из 1, получим вероятность получения хотя бы 1го белого мяча\n",
    "1 - C11 * C12 / (C01 * C02)"
   ]
  },
  {
   "cell_type": "code",
   "execution_count": null,
   "metadata": {},
   "outputs": [],
   "source": []
  },
  {
   "cell_type": "code",
   "execution_count": 29,
   "metadata": {},
   "outputs": [
    {
     "data": {
      "text/plain": [
       "0.9987878787878788"
      ]
     },
     "execution_count": 29,
     "metadata": {},
     "output_type": "execute_result"
    }
   ],
   "source": [
    "# при пошаговом расчете складываем вероятности случаев когда:\n",
    "# все мячи белые + 3 мяча белых + 2 мяча белых + 1 мяч белый\n",
    "# вероятности берем из предыдущих расчетов, недостающие расчитываются ниже\n",
    "\n",
    "0.3054545454545455 + 0.45818181818181825 + 0.20484848484848486 + 0.030303030303030304\n",
    "# получаем тот же результат"
   ]
  },
  {
   "cell_type": "code",
   "execution_count": null,
   "metadata": {},
   "outputs": [],
   "source": []
  },
  {
   "cell_type": "code",
   "execution_count": 30,
   "metadata": {},
   "outputs": [],
   "source": [
    "# 3 белых\n",
    "\n",
    "# число сочетаний для получения 2х белых мячей из 1го ящика\n",
    "C11 = combinations(7, 2)\n",
    "\n",
    "# число сочетаний для получения 1го белого мяча из 2го ящика\n",
    "C32 = combinations(9, 1)\n",
    "# число сочетаний для получения 1го не белого мяча из 2го ящика\n",
    "C42 = combinations(2, 1)\n",
    "\n",
    "# число сочетаний для получения 2х любых мячей из 1го ящика\n",
    "C01 = combinations(10, 2)\n",
    "\n",
    "\n",
    "# число сочетаний для получения 2х белых мячей из 2го ящика\n",
    "C22 = combinations(9, 2)\n",
    "\n",
    "# число сочетаний для получения 1го белого мяча из 1го ящика\n",
    "C31 = combinations(7, 1)\n",
    "# число сочетаний для получения 1го не белого мяча из 1го ящика\n",
    "C41 = combinations(3, 1)\n",
    "\n",
    "# число сочетаний для получения 2х любых мячей из 2го ящика\n",
    "C02 = combinations(11, 2)"
   ]
  },
  {
   "cell_type": "code",
   "execution_count": 31,
   "metadata": {},
   "outputs": [
    {
     "data": {
      "text/plain": [
       "0.45818181818181825"
      ]
     },
     "execution_count": 31,
     "metadata": {},
     "output_type": "execute_result"
    }
   ],
   "source": [
    "C11/C01 * C32*C42/C02 + C22/C02 * C31*C41/C01"
   ]
  },
  {
   "cell_type": "code",
   "execution_count": 32,
   "metadata": {},
   "outputs": [],
   "source": [
    "# один белый\n",
    "\n",
    "# число сочетаний для получения 1го белого мяча из 1го ящика\n",
    "C31 = combinations(7, 1)\n",
    "# число сочетаний для получения 1го не белого мяча из 1го ящика\n",
    "C41 = combinations(3, 1)\n",
    "# число сочетаний для получения 2х не белых мячей из 2го ящика\n",
    "C12 = combinations(2, 2)\n",
    "\n",
    "# число сочетаний для получения 1го белого мяча из 2го ящика\n",
    "C32 = combinations(9, 1)\n",
    "# число сочетаний для получения 1го не белого мяча из 2го ящика\n",
    "C42 = combinations(2, 1)\n",
    "# число сочетаний для получения 2х не белых мячей из 1го ящика\n",
    "C11 = combinations(3, 2)\n",
    "\n",
    "\n",
    "# число сочетаний для получения 2х любых мячей из 1го ящика\n",
    "C01 = combinations(10, 2)\n",
    "# число сочетаний для получения 2х любых мячей из 2го ящика\n",
    "C02 = combinations(11, 2)"
   ]
  },
  {
   "cell_type": "code",
   "execution_count": 33,
   "metadata": {},
   "outputs": [
    {
     "data": {
      "text/plain": [
       "0.030303030303030304"
      ]
     },
     "execution_count": 33,
     "metadata": {},
     "output_type": "execute_result"
    }
   ],
   "source": [
    "C31*C41/C01 * C12/C02 + C32*C42/C02 * C11/C01"
   ]
  }
 ],
 "metadata": {
  "kernelspec": {
   "display_name": "Python 3",
   "language": "python",
   "name": "python3"
  },
  "language_info": {
   "codemirror_mode": {
    "name": "ipython",
    "version": 3
   },
   "file_extension": ".py",
   "mimetype": "text/x-python",
   "name": "python",
   "nbconvert_exporter": "python",
   "pygments_lexer": "ipython3",
   "version": "3.8.3"
  }
 },
 "nbformat": 4,
 "nbformat_minor": 4
}
